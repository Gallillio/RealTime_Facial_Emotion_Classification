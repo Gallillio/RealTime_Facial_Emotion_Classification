{
 "cells": [
  {
   "cell_type": "code",
   "execution_count": 1,
   "id": "262030d7-a862-499c-b906-3bc5917f7dc5",
   "metadata": {},
   "outputs": [
    {
     "name": "stdout",
     "output_type": "stream",
     "text": [
      "WARNING:tensorflow:From C:\\Users\\Ahmed\\AppData\\Roaming\\Python\\Python311\\site-packages\\keras\\src\\losses.py:2976: The name tf.losses.sparse_softmax_cross_entropy is deprecated. Please use tf.compat.v1.losses.sparse_softmax_cross_entropy instead.\n",
      "\n"
     ]
    },
    {
     "name": "stderr",
     "output_type": "stream",
     "text": [
      "D:\\anaconda3\\Lib\\site-packages\\paramiko\\transport.py:219: CryptographyDeprecationWarning: Blowfish has been deprecated\n",
      "  \"class\": algorithms.Blowfish,\n"
     ]
    }
   ],
   "source": [
    "import numpy as np\n",
    "import pandas as pd\n",
    "import random\n",
    "import os\n",
    "import sys\n",
    "import numpy as np\n",
    "import matplotlib.pyplot as plt \n",
    "import plotly\n",
    "from plotly.subplots import make_subplots\n",
    "import plotly.graph_objects as go\n",
    "from plotly.subplots import make_subplots\n",
    "import tensorflow as tf\n",
    "from tensorflow import keras\n",
    "from tensorflow.keras import layers, models\n",
    "from sklearn.model_selection import train_test_split\n",
    "from sklearn.preprocessing import LabelEncoder \n",
    "from tensorflow.keras.utils import to_categorical, plot_model\n",
    "from keras.applications.mobilenet_v2 import MobileNetV2, preprocess_input\n",
    "from skimage.transform import resize\n",
    "from tensorflow.keras.models import load_model\n",
    "from tensorflow.keras.callbacks import EarlyStopping, ModelCheckpoint, ReduceLROnPlateau\n",
    "from sklearn.metrics import accuracy_score, precision_score, recall_score, f1_score, confusion_matrix, classification_report\n",
    "from tensorflow.keras.preprocessing.image import ImageDataGenerator, load_img, img_to_array\n",
    "from keras.preprocessing import image\n",
    "from keras.regularizers import l2\n",
    "import cv2"
   ]
  },
  {
   "cell_type": "code",
   "execution_count": 2,
   "id": "8d7f13a7-533d-406a-80c3-7eb656943b5d",
   "metadata": {},
   "outputs": [
    {
     "name": "stdout",
     "output_type": "stream",
     "text": [
      "GPUs Available:  0\n",
      "False\n",
      "2.15.0\n",
      "3.11.5 | packaged by Anaconda, Inc. | (main, Sep 11 2023, 13:26:23) [MSC v.1916 64 bit (AMD64)]\n",
      "\n",
      "WARNING:tensorflow:From C:\\Users\\Ahmed\\AppData\\Local\\Temp\\ipykernel_14744\\1589414974.py:6: is_gpu_available (from tensorflow.python.framework.test_util) is deprecated and will be removed in a future version.\n",
      "Instructions for updating:\n",
      "Use `tf.config.list_physical_devices('GPU')` instead.\n",
      "False\n"
     ]
    }
   ],
   "source": [
    "print(\"GPUs Available: \", len(tf.config.experimental.list_physical_devices(\"GPU\")))\n",
    "print(tf.test.is_built_with_cuda())\n",
    "print(tf.version.VERSION)\n",
    "print(sys.version)\n",
    "print(tf.test.gpu_device_name())\n",
    "print(tf.test.is_gpu_available())"
   ]
  },
  {
   "cell_type": "markdown",
   "id": "427d3029-e18a-4068-b861-0cc6bea0a1e6",
   "metadata": {},
   "source": [
    "<h3> Data Collection"
   ]
  },
  {
   "cell_type": "markdown",
   "id": "5e5ba494-8503-442d-96aa-978e96ec9f28",
   "metadata": {},
   "source": [
    "<h4> FER-2013 Data Unedited"
   ]
  },
  {
   "cell_type": "code",
   "execution_count": null,
   "id": "dca98e07-324b-47ac-8bb6-fd25fd5c0ddb",
   "metadata": {},
   "outputs": [],
   "source": []
  },
  {
   "cell_type": "markdown",
   "id": "319b5a5a-5af2-4156-a1ff-1bce1294a02e",
   "metadata": {},
   "source": [
    "<h4> Microsoft Data"
   ]
  },
  {
   "cell_type": "code",
   "execution_count": null,
   "id": "7080ad6a-e452-4707-8714-11afb5c9a3ac",
   "metadata": {},
   "outputs": [],
   "source": []
  },
  {
   "cell_type": "markdown",
   "id": "9915af61-62ad-49c6-9a7f-fa837b4c197d",
   "metadata": {},
   "source": [
    "<h4> Manually Augmented data"
   ]
  },
  {
   "cell_type": "code",
   "execution_count": null,
   "id": "5f3db15b-c054-4a85-8b4c-bf846fb495ae",
   "metadata": {},
   "outputs": [],
   "source": []
  },
  {
   "cell_type": "markdown",
   "id": "f9eccfcd-0685-4c26-8e86-0971e28e0f83",
   "metadata": {},
   "source": [
    "<h4> Combined Balanced Data"
   ]
  },
  {
   "cell_type": "code",
   "execution_count": null,
   "id": "fbd45571-378f-46b4-a9ab-3965498a5181",
   "metadata": {},
   "outputs": [],
   "source": []
  },
  {
   "cell_type": "markdown",
   "id": "ece8f807-e4b9-4824-bdf4-7bd746979e64",
   "metadata": {},
   "source": [
    "<h4> all train datas besides each other"
   ]
  },
  {
   "cell_type": "code",
   "execution_count": null,
   "id": "1f69bf6d-9c05-4ada-a298-3ba15a3347d6",
   "metadata": {},
   "outputs": [],
   "source": []
  },
  {
   "cell_type": "markdown",
   "id": "4ca39cc1-7c7f-481d-bd9f-580975530af8",
   "metadata": {},
   "source": [
    "<h3> Change this to change model"
   ]
  },
  {
   "cell_type": "code",
   "execution_count": null,
   "id": "ac5a7d78-b559-48e3-8bd5-153f241d8e0a",
   "metadata": {},
   "outputs": [],
   "source": []
  },
  {
   "cell_type": "markdown",
   "id": "97320e1c-cbdd-44cf-9a64-3ac4ff76c787",
   "metadata": {},
   "source": [
    "<h3> Prediction Function"
   ]
  },
  {
   "cell_type": "code",
   "execution_count": null,
   "id": "1abb5d4e-efda-4605-84a7-70ebe0a047b2",
   "metadata": {},
   "outputs": [],
   "source": []
  },
  {
   "cell_type": "markdown",
   "id": "62ec1e0d-9b76-4a39-8f9c-cfc0a545939d",
   "metadata": {},
   "source": [
    "<h3> Augmenting & Reshaping Data"
   ]
  },
  {
   "cell_type": "code",
   "execution_count": null,
   "id": "66f2b2e2-1eed-4a74-be43-1b936318febb",
   "metadata": {},
   "outputs": [],
   "source": []
  },
  {
   "cell_type": "markdown",
   "id": "a0e57d7f-bdf4-46ed-8919-5da92461a8f6",
   "metadata": {},
   "source": [
    "<h3> MobileNetV2"
   ]
  },
  {
   "cell_type": "code",
   "execution_count": null,
   "id": "5e99f323-9d44-41fa-aa32-f007352c3446",
   "metadata": {},
   "outputs": [],
   "source": []
  },
  {
   "cell_type": "markdown",
   "id": "21aac1db-9dd2-4fda-8656-01c14e027767",
   "metadata": {},
   "source": [
    "<h4> rmsprop optimizer"
   ]
  },
  {
   "cell_type": "code",
   "execution_count": null,
   "id": "57bac5e8-0b7e-4ad3-af3d-17c77c8e928f",
   "metadata": {},
   "outputs": [],
   "source": []
  },
  {
   "cell_type": "markdown",
   "id": "5a78d8a2-27b1-47e2-9426-7653191d67da",
   "metadata": {},
   "source": [
    "<h4> SGD otimizer"
   ]
  },
  {
   "cell_type": "code",
   "execution_count": null,
   "id": "bd8c0ed6-fb6d-4d51-8702-6f5ea617c7c6",
   "metadata": {},
   "outputs": [],
   "source": []
  },
  {
   "cell_type": "markdown",
   "id": "1ac4238d-2189-42ce-b6f6-a51d95b1f72a",
   "metadata": {},
   "source": [
    "<h4> Adam Optimizer"
   ]
  },
  {
   "cell_type": "code",
   "execution_count": null,
   "id": "85b22021-0845-44f0-9595-7f94df5901b9",
   "metadata": {},
   "outputs": [],
   "source": []
  },
  {
   "cell_type": "markdown",
   "id": "1c36f6d5-68fc-4209-874d-5fe955721af1",
   "metadata": {},
   "source": [
    "<h3> CNN"
   ]
  },
  {
   "cell_type": "code",
   "execution_count": null,
   "id": "3496663e-b2a9-44e3-ba87-5759973e92d7",
   "metadata": {},
   "outputs": [],
   "source": []
  },
  {
   "cell_type": "markdown",
   "id": "70d19c7d-7438-4ebe-a7d9-4d4e35134d64",
   "metadata": {},
   "source": [
    "### CNN Model (Adam) -Results"
   ]
  },
  {
   "cell_type": "code",
   "execution_count": null,
   "id": "3abf352a-55f7-4516-99bf-4775175ea508",
   "metadata": {},
   "outputs": [],
   "source": []
  },
  {
   "cell_type": "markdown",
   "id": "d0406ab1-da19-4171-b722-77cef44956ea",
   "metadata": {},
   "source": [
    "### CNN Model (SGD) -Results"
   ]
  },
  {
   "cell_type": "code",
   "execution_count": null,
   "id": "88b53617-941e-450b-8305-b446d9a0adc4",
   "metadata": {},
   "outputs": [],
   "source": []
  },
  {
   "cell_type": "markdown",
   "id": "141dcd42-dd90-45a5-ab05-cec2dbad1bbe",
   "metadata": {},
   "source": [
    "### CNN Model (RMSProp) -Results"
   ]
  },
  {
   "cell_type": "code",
   "execution_count": null,
   "id": "b225756b-631a-4c35-9e55-dacb5cd3092d",
   "metadata": {},
   "outputs": [],
   "source": []
  },
  {
   "cell_type": "markdown",
   "id": "1a26e227-25a2-496c-a12f-462329612e56",
   "metadata": {},
   "source": [
    "<h4> CNN rmsprop optimizer"
   ]
  },
  {
   "cell_type": "code",
   "execution_count": null,
   "id": "9754a931-f542-4ae9-92c2-0d5bee34c7f1",
   "metadata": {},
   "outputs": [],
   "source": []
  },
  {
   "cell_type": "markdown",
   "id": "477c698c-388b-4300-8a7c-25adafa6cd8e",
   "metadata": {},
   "source": [
    "<h4> CNN SGD optimizer"
   ]
  },
  {
   "cell_type": "code",
   "execution_count": null,
   "id": "dfad7c83-18da-4590-a62d-04566b3c4e14",
   "metadata": {},
   "outputs": [],
   "source": []
  },
  {
   "cell_type": "markdown",
   "id": "61c91e15-aee9-4dbe-ba6e-7c1193969f8a",
   "metadata": {},
   "source": [
    "<h3> VGG"
   ]
  },
  {
   "cell_type": "code",
   "execution_count": null,
   "id": "b6efb328-b2a0-4a04-9b3e-c628faacb566",
   "metadata": {},
   "outputs": [],
   "source": []
  },
  {
   "cell_type": "markdown",
   "id": "49a2c3fa-6d54-4364-979f-324d279a0382",
   "metadata": {},
   "source": [
    "<h3> Live Image Preprocessing"
   ]
  },
  {
   "cell_type": "code",
   "execution_count": null,
   "id": "b05e920f-8c65-43f6-89dc-9052a2653966",
   "metadata": {},
   "outputs": [],
   "source": []
  },
  {
   "cell_type": "markdown",
   "id": "c9d6e7fc-ff34-41a8-9cdb-3bdcb9afa108",
   "metadata": {},
   "source": [
    "<h3> Live Prediction CV2"
   ]
  },
  {
   "cell_type": "code",
   "execution_count": null,
   "id": "6eb95620-ab81-474d-ab11-29de55457bd0",
   "metadata": {},
   "outputs": [],
   "source": []
  },
  {
   "cell_type": "code",
   "execution_count": null,
   "id": "9ec4f746-00cf-4e16-9180-569c773dc342",
   "metadata": {},
   "outputs": [],
   "source": []
  }
 ],
 "metadata": {
  "kernelspec": {
   "display_name": "Python 3 (ipykernel)",
   "language": "python",
   "name": "python3"
  },
  "language_info": {
   "codemirror_mode": {
    "name": "ipython",
    "version": 3
   },
   "file_extension": ".py",
   "mimetype": "text/x-python",
   "name": "python",
   "nbconvert_exporter": "python",
   "pygments_lexer": "ipython3",
   "version": "3.11.5"
  }
 },
 "nbformat": 4,
 "nbformat_minor": 5
}
